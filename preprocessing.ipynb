{
 "cells": [
  {
   "cell_type": "code",
   "execution_count": 17,
   "id": "766877f0",
   "metadata": {},
   "outputs": [
    {
     "name": "stdout",
     "output_type": "stream",
     "text": [
      "The autoreload extension is already loaded. To reload it, use:\n",
      "  %reload_ext autoreload\n"
     ]
    }
   ],
   "source": [
    "%load_ext autoreload\n",
    "%autoreload 2\n",
    "%matplotlib inline\n",
    "\n",
    "\n",
    "import pathlib\n",
    "from pathlib import Path\n",
    "import matplotlib.pyplot as plt\n",
    "import numpy as np\n",
    "import geopandas as gpd\n",
    "import rasterio\n",
    "import shapely\n",
    "import pprint\n",
    "from pprint import pprint\n",
    "\n"
   ]
  },
  {
   "cell_type": "code",
   "execution_count": 18,
   "id": "aadd6b5b",
   "metadata": {},
   "outputs": [],
   "source": [
    "import utils.other\n",
    "import utils.geo\n",
    "import utils.coco\n",
    "import utils.img\n"
   ]
  },
  {
   "cell_type": "code",
   "execution_count": 19,
   "id": "908d1b8d",
   "metadata": {},
   "outputs": [],
   "source": [
    "from utils.other import new_pickle, load_pickle, new_json, load_json"
   ]
  },
  {
   "cell_type": "code",
   "execution_count": 32,
   "id": "82226d9c",
   "metadata": {},
   "outputs": [],
   "source": [
    "inpath_s2 = Path(r'/Users/chetnagupta/project-arms4ai/data/RGB_small.tif')\n",
    "inpath_fields = Path(r'/Users/chetnagupta/project-arms4ai/data/marker2016_small.shp')\n",
    "\n",
    "outpath = Path(r'/Users/chetnagupta/project-arms4ai/data/output/preprocessed')\n",
    "\n",
    "# inpath_s2 = Path(r'data\\RGB_small.tif')\n",
    "# inpath_fields = Path(r'data\\marker2016_small.shp')\n",
    "\n",
    "# outpath = Path(r'output\\preprocessed')\n"
   ]
  },
  {
   "cell_type": "code",
   "execution_count": 33,
   "id": "c3a27aea",
   "metadata": {},
   "outputs": [
    {
     "name": "stdout",
     "output_type": "stream",
     "text": [
      "Loading from exisiting shp file... prepared_vector.shp\n",
      "<class 'geopandas.geodataframe.GeoDataFrame'>\n",
      "Index: 0 entries\n",
      "Data columns (total 1 columns):\n",
      " #   Column    Non-Null Count  Dtype   \n",
      "---  ------    --------------  -----   \n",
      " 0   geometry  0 non-null      geometry\n",
      "dtypes: geometry(1)\n",
      "memory usage: 0.0+ bytes\n",
      "None\n"
     ]
    },
    {
     "data": {
      "text/html": [
       "<div>\n",
       "<style scoped>\n",
       "    .dataframe tbody tr th:only-of-type {\n",
       "        vertical-align: middle;\n",
       "    }\n",
       "\n",
       "    .dataframe tbody tr th {\n",
       "        vertical-align: top;\n",
       "    }\n",
       "\n",
       "    .dataframe thead th {\n",
       "        text-align: right;\n",
       "    }\n",
       "</style>\n",
       "<table border=\"1\" class=\"dataframe\">\n",
       "  <thead>\n",
       "    <tr style=\"text-align: right;\">\n",
       "      <th></th>\n",
       "      <th>geometry</th>\n",
       "    </tr>\n",
       "  </thead>\n",
       "  <tbody>\n",
       "  </tbody>\n",
       "</table>\n",
       "</div>"
      ],
      "text/plain": [
       "Empty GeoDataFrame\n",
       "Columns: [geometry]\n",
       "Index: []"
      ]
     },
     "metadata": {},
     "output_type": "display_data"
    }
   ],
   "source": [
    "def prepare_vector(fp, out_crs, clipping_bounds):\n",
    "    df = (gpd.read_file(str(fp), encoding='cp865')  # danish encoding\n",
    "             .rename(columns={'Afgroede': 'lc_name', 'AfgKode': 'lc_id', 'JOURNALNUM': 'journalnr'})\n",
    "             .drop(['GB', 'GEOMETRISK', 'MARKNUMMER'], axis=1)\n",
    "             .pipe(utils.geo.explode_mp)\n",
    "             .pipe(utils.geo.buffer_zero)\n",
    "             .pipe(utils.geo.close_holes)\n",
    "             .pipe(utils.geo.set_crs, 3044)\n",
    "             .to_crs(out_crs)\n",
    "             .pipe(utils.geo.clip, clip_poly=shapely.geometry.box(*clipping_bounds), explode_mp_=True)\n",
    "             .pipe(utils.geo.reclassify_col, rcl_scheme=utils.geo.reclass_legend, \n",
    "                   col_classlabels='lc_name', col_classids='lc_id', drop_other_classes=True)\n",
    "             .assign(geometry=lambda _df: _df.geometry.simplify(5, preserve_topology=True))\n",
    "             .pipe(utils.geo.buffer_zero)\n",
    "             .assign(area_sqm=lambda _df: _df.geometry.area)\n",
    "             .pipe(utils.geo.reduce_precision, precision=4)\n",
    "             .reset_index(drop=True)\n",
    "             .assign(fid=lambda _df: range(0, len(_df.index)))\n",
    "             .filter(['journalnr', 'lc_id', 'lc_name', 'r_lc_id', 'r_lc_name', 'area_sqm', 'fid', 'geometry']))\n",
    "    return df\n",
    "\n",
    "outpath_fields = outpath / 'prepared_vector.shp'\n",
    "\n",
    "if not outpath_fields.exists():\n",
    "    with rasterio.open(inpath_s2) as src:\n",
    "        raster_meta = src.meta\n",
    "        raster_bounds = src.bounds\n",
    "    df = prepare_vector(inpath_fields, raster_meta['crs'], raster_bounds)\n",
    "    outpath_fields.parent.mkdir(parents=True, exist_ok=True)\n",
    "    df.to_file(outpath_fields, driver='ESRI Shapefile', encoding='cp865')\n",
    "else:\n",
    "    print(f'Loading from exisiting shp file... {outpath_fields.name}')\n",
    "    df = gpd.read_file(str(outpath_fields), encoding='cp865')\n",
    "     \n",
    "print(df.info())\n",
    "display(df.head(3))"
   ]
  },
  {
   "cell_type": "code",
   "execution_count": 34,
   "id": "2af421cb",
   "metadata": {},
   "outputs": [
    {
     "name": "stdout",
     "output_type": "stream",
     "text": [
      "Loading from existing pickle file... chip_dfs.pkl\n",
      "len 0\n"
     ]
    }
   ],
   "source": [
    "outpath_chips = outpath / 'chip_dfs.pkl'\n",
    "chip_width, chip_height = 128, 128\n",
    "\n",
    "if not outpath_chips.exists():\n",
    "    with rasterio.open(inpath_s2) as src:\n",
    "        raster_meta = src.meta\n",
    "    chip_dfs = utils.geo.cut_chip_geometries(vector_df=df,\n",
    "                                             raster_width=raster_meta['width'],\n",
    "                                             raster_height=raster_meta['height'],\n",
    "                                             raster_transform=raster_meta['transform'],\n",
    "                                             chip_width=chip_width,\n",
    "                                             chip_height=chip_height,\n",
    "                                             first_n_chips = 1000)\n",
    "    new_pickle(outpath_chips, chip_dfs)\n",
    "else:\n",
    "    chip_dfs = load_pickle(outpath_chips)\n",
    "    \n",
    "print('len', len(chip_dfs))\n"
   ]
  },
  {
   "cell_type": "code",
   "execution_count": 35,
   "id": "9be53652",
   "metadata": {},
   "outputs": [
    {
     "name": "stdout",
     "output_type": "stream",
     "text": [
      "Writing new json file... annotations\\train2016.json\n",
      "Writing new json file... annotations\\val2016.json\n"
     ]
    }
   ],
   "source": [
    "train_chip_dfs, val_chip_dfs = utils.coco.train_test_split(chip_dfs, test_size=0.2, seed=1)\n",
    "coco_train = utils.coco.format_coco(train_chip_dfs, chip_width, chip_height)\n",
    "coco_val = utils.coco.format_coco(val_chip_dfs, chip_width, chip_height)\n",
    "new_json(outpath / r'annotations\\train2016.json', coco_train)\n",
    "new_json(outpath / r'annotations\\val2016.json', coco_val)"
   ]
  },
  {
   "cell_type": "code",
   "execution_count": 36,
   "id": "2ce59e7a",
   "metadata": {},
   "outputs": [
    {
     "name": "stderr",
     "output_type": "stream",
     "text": [
      "0it [00:00, ?it/s]"
     ]
    },
    {
     "name": "stdout",
     "output_type": "stream",
     "text": [
      "len 0\n"
     ]
    },
    {
     "name": "stderr",
     "output_type": "stream",
     "text": [
      "\n"
     ]
    }
   ],
   "source": [
    "# Cut to chip images and write to disk, retrieve chip image statistics\n",
    "    \n",
    "chip_windows = {chip_name : value['chip_window'] for chip_name, value in chip_dfs.items()}\n",
    "chip_statistics = utils.img.cut_chip_images(inpath_raster=inpath_s2,\n",
    "                                            outpath_chipfolder=outpath / r'images\\train2016', \n",
    "                                            chip_names=chip_windows.keys(),\n",
    "                                            chip_windows=chip_windows.values(), \n",
    "                                            bands=[3, 2, 1])\n",
    "\n",
    "utils.coco.move_coco_val_images(inpath_train_folder=outpath / r'images\\train2016',\n",
    "                                val_chips_list=val_chip_dfs.keys())\n",
    "\n",
    "print('len', len(chip_statistics))"
   ]
  },
  {
   "cell_type": "code",
   "execution_count": 25,
   "id": "aa2c6d2d",
   "metadata": {},
   "outputs": [
    {
     "name": "stdout",
     "output_type": "stream",
     "text": [
      "Writing new json file... statistics.json\n",
      "{'nr_chips': 0,\n",
      " 'nr_chips_train': 0,\n",
      " 'nr_chips_val': 0,\n",
      " 'nr_polys': 0,\n",
      " 'nr_polys_train': 0,\n",
      " 'nr_polys_val': 0}\n"
     ]
    }
   ],
   "source": [
    "statistics = {\n",
    "    'nr_chips': len(chip_dfs.keys()),\n",
    "    'nr_chips_train': len(train_chip_dfs),\n",
    "    'nr_chips_val': len(val_chip_dfs),\n",
    "    'nr_polys': sum([len(df['chip_df']) for df in chip_dfs.values()]),\n",
    "    'nr_polys_train': sum([len(df['chip_df']) for df in train_chip_dfs.values()]),\n",
    "    'nr_polys_val': sum([len(df['chip_df']) for df in val_chip_dfs.values()]),\n",
    "#     'avg_polys_per_chip': sum([len(df['chip_df']) for df in chip_dfs.values()]) / len(chip_dfs.keys()),\n",
    "#     'train_rgb_mean': list(np.asarray([df['mean'] for df in [chip_statistics[key] for key in train_chip_dfs.keys()]]).mean(axis=0)),\n",
    "#     'train_rgb_std': list(np.asarray([df['std'] for df in [chip_statistics[key] for key in train_chip_dfs.keys()]]).mean(axis=0))}\n",
    "}\n",
    "\n",
    "new_json(outpath / 'statistics.json', statistics)\n",
    "pprint(statistics)"
   ]
  },
  {
   "cell_type": "code",
   "execution_count": 26,
   "id": "6b599517",
   "metadata": {},
   "outputs": [
    {
     "ename": "AttributeError",
     "evalue": "'str' object has no attribute 'name'",
     "output_type": "error",
     "traceback": [
      "\u001b[0;31m---------------------------------------------------------------------------\u001b[0m",
      "\u001b[0;31mAttributeError\u001b[0m                            Traceback (most recent call last)",
      "\u001b[0;32m/var/folders/52/2yd449753fj2hfbhk7td9q1c0000gn/T/ipykernel_2463/1753625343.py\u001b[0m in \u001b[0;36m<module>\u001b[0;34m\u001b[0m\n\u001b[1;32m      1\u001b[0m utils.coco.plot_coco(inpath_json=r'/Users/chetnagupta/project-arms4ai/data/output/preprocessed/annotations\\val2016.json', \n\u001b[0;32m----> 2\u001b[0;31m                      \u001b[0minpath_image_folder\u001b[0m\u001b[0;34m=\u001b[0m \u001b[0;34mr'/Users/chetnagupta/project-arms4ai/data/output/preprocessed\\val2016'\u001b[0m\u001b[0;34m,\u001b[0m\u001b[0mend\u001b[0m\u001b[0;34m=\u001b[0m\u001b[0;36m2\u001b[0m\u001b[0;34m\u001b[0m\u001b[0;34m\u001b[0m\u001b[0m\n\u001b[0m\u001b[1;32m      3\u001b[0m                      )\n",
      "\u001b[0;32m~/project-arms4ai/utils/coco.py\u001b[0m in \u001b[0;36mplot_coco\u001b[0;34m(inpath_json, inpath_image_folder, start, end)\u001b[0m\n\u001b[1;32m    172\u001b[0m \u001b[0;32mdef\u001b[0m \u001b[0mplot_coco\u001b[0m\u001b[0;34m(\u001b[0m\u001b[0minpath_json\u001b[0m\u001b[0;34m,\u001b[0m \u001b[0minpath_image_folder\u001b[0m\u001b[0;34m,\u001b[0m \u001b[0mstart\u001b[0m\u001b[0;34m=\u001b[0m\u001b[0;36m0\u001b[0m\u001b[0;34m,\u001b[0m \u001b[0mend\u001b[0m\u001b[0;34m=\u001b[0m\u001b[0;36m2\u001b[0m\u001b[0;34m)\u001b[0m\u001b[0;34m:\u001b[0m\u001b[0;34m\u001b[0m\u001b[0;34m\u001b[0m\u001b[0m\n\u001b[1;32m    173\u001b[0m     \u001b[0;34m\"\"\"Plot COCO annotations and image chips\"\"\"\u001b[0m\u001b[0;34m\u001b[0m\u001b[0;34m\u001b[0m\u001b[0m\n\u001b[0;32m--> 174\u001b[0;31m     \u001b[0mextracted\u001b[0m \u001b[0;34m=\u001b[0m \u001b[0mutils\u001b[0m\u001b[0;34m.\u001b[0m\u001b[0mcoco\u001b[0m\u001b[0;34m.\u001b[0m\u001b[0mcoco_to_shapely\u001b[0m\u001b[0;34m(\u001b[0m\u001b[0minpath_json\u001b[0m\u001b[0;34m)\u001b[0m\u001b[0;34m\u001b[0m\u001b[0;34m\u001b[0m\u001b[0m\n\u001b[0m\u001b[1;32m    175\u001b[0m \u001b[0;34m\u001b[0m\u001b[0m\n\u001b[1;32m    176\u001b[0m     \u001b[0;32mfor\u001b[0m \u001b[0mkey\u001b[0m \u001b[0;32min\u001b[0m \u001b[0msorted\u001b[0m\u001b[0;34m(\u001b[0m\u001b[0mextracted\u001b[0m\u001b[0;34m.\u001b[0m\u001b[0mkeys\u001b[0m\u001b[0;34m(\u001b[0m\u001b[0;34m)\u001b[0m\u001b[0;34m)\u001b[0m\u001b[0;34m[\u001b[0m\u001b[0mstart\u001b[0m\u001b[0;34m:\u001b[0m\u001b[0mend\u001b[0m\u001b[0;34m]\u001b[0m\u001b[0;34m:\u001b[0m\u001b[0;34m\u001b[0m\u001b[0;34m\u001b[0m\u001b[0m\n",
      "\u001b[0;32m~/project-arms4ai/utils/coco.py\u001b[0m in \u001b[0;36mcoco_to_shapely\u001b[0;34m(inpath_json, categories)\u001b[0m\n\u001b[1;32m    146\u001b[0m     \"\"\"\n\u001b[1;32m    147\u001b[0m \u001b[0;34m\u001b[0m\u001b[0m\n\u001b[0;32m--> 148\u001b[0;31m     \u001b[0mdata\u001b[0m \u001b[0;34m=\u001b[0m \u001b[0mutils\u001b[0m\u001b[0;34m.\u001b[0m\u001b[0mother\u001b[0m\u001b[0;34m.\u001b[0m\u001b[0mload_json\u001b[0m\u001b[0;34m(\u001b[0m\u001b[0minpath_json\u001b[0m\u001b[0;34m)\u001b[0m\u001b[0;34m\u001b[0m\u001b[0;34m\u001b[0m\u001b[0m\n\u001b[0m\u001b[1;32m    149\u001b[0m     \u001b[0;32mif\u001b[0m \u001b[0mcategories\u001b[0m \u001b[0;32mis\u001b[0m \u001b[0;32mnot\u001b[0m \u001b[0;32mNone\u001b[0m\u001b[0;34m:\u001b[0m\u001b[0;34m\u001b[0m\u001b[0;34m\u001b[0m\u001b[0m\n\u001b[1;32m    150\u001b[0m         \u001b[0;31m# Get image ids/file names that contain at least one annotation of the selected categories.\u001b[0m\u001b[0;34m\u001b[0m\u001b[0;34m\u001b[0m\u001b[0;34m\u001b[0m\u001b[0m\n",
      "\u001b[0;32m~/project-arms4ai/utils/other.py\u001b[0m in \u001b[0;36mload_json\u001b[0;34m(inpath)\u001b[0m\n\u001b[1;32m     36\u001b[0m \u001b[0;34m\u001b[0m\u001b[0m\n\u001b[1;32m     37\u001b[0m \u001b[0;32mdef\u001b[0m \u001b[0mload_json\u001b[0m\u001b[0;34m(\u001b[0m\u001b[0minpath\u001b[0m\u001b[0;34m:\u001b[0m \u001b[0mPath\u001b[0m\u001b[0;34m)\u001b[0m\u001b[0;34m:\u001b[0m\u001b[0;34m\u001b[0m\u001b[0;34m\u001b[0m\u001b[0m\n\u001b[0;32m---> 38\u001b[0;31m     \u001b[0mprint\u001b[0m\u001b[0;34m(\u001b[0m\u001b[0;34mf'Loading from existing json file... {inpath.name}'\u001b[0m\u001b[0;34m)\u001b[0m\u001b[0;34m\u001b[0m\u001b[0;34m\u001b[0m\u001b[0m\n\u001b[0m\u001b[1;32m     39\u001b[0m     \u001b[0;32mwith\u001b[0m \u001b[0mopen\u001b[0m\u001b[0;34m(\u001b[0m\u001b[0minpath\u001b[0m\u001b[0;34m,\u001b[0m \u001b[0;34m\"r\"\u001b[0m\u001b[0;34m)\u001b[0m \u001b[0;32mas\u001b[0m \u001b[0mf\u001b[0m\u001b[0;34m:\u001b[0m\u001b[0;34m\u001b[0m\u001b[0;34m\u001b[0m\u001b[0m\n\u001b[1;32m     40\u001b[0m         \u001b[0;32mreturn\u001b[0m \u001b[0mjson\u001b[0m\u001b[0;34m.\u001b[0m\u001b[0mload\u001b[0m\u001b[0;34m(\u001b[0m\u001b[0mf\u001b[0m\u001b[0;34m)\u001b[0m\u001b[0;34m\u001b[0m\u001b[0;34m\u001b[0m\u001b[0m\n",
      "\u001b[0;31mAttributeError\u001b[0m: 'str' object has no attribute 'name'"
     ]
    }
   ],
   "source": [
    "utils.coco.plot_coco(inpath_json=r'/Users/chetnagupta/project-arms4ai/data/output/preprocessed/annotations\\val2016.json', \n",
    "                     inpath_image_folder= r'/Users/chetnagupta/project-arms4ai/data/output/preprocessed\\val2016',end=2\n",
    "                     )"
   ]
  },
  {
   "cell_type": "code",
   "execution_count": null,
   "id": "cc5535ab",
   "metadata": {},
   "outputs": [],
   "source": []
  }
 ],
 "metadata": {
  "kernelspec": {
   "display_name": "Python 3 (ipykernel)",
   "language": "python",
   "name": "python3"
  },
  "language_info": {
   "codemirror_mode": {
    "name": "ipython",
    "version": 3
   },
   "file_extension": ".py",
   "mimetype": "text/x-python",
   "name": "python",
   "nbconvert_exporter": "python",
   "pygments_lexer": "ipython3",
   "version": "3.7.15"
  }
 },
 "nbformat": 4,
 "nbformat_minor": 5
}
